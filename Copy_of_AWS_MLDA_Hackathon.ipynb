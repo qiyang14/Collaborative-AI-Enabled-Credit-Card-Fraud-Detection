{
  "nbformat": 4,
  "nbformat_minor": 0,
  "metadata": {
    "colab": {
      "provenance": []
    },
    "kernelspec": {
      "name": "python3",
      "display_name": "Python 3"
    },
    "language_info": {
      "name": "python"
    }
  },
  "cells": [
    {
      "cell_type": "markdown",
      "source": [
        "Process Data Reference: https://www.kaggle.com/code/marcinrutecki/smote-and-tomek-links-for-imbalanced-data#1.-Introduction"
      ],
      "metadata": {
        "id": "eN4bybCW85RB"
      }
    },
    {
      "cell_type": "code",
      "execution_count": 4,
      "metadata": {
        "id": "Yh3y52c38SOZ"
      },
      "outputs": [],
      "source": [
        "from matplotlib import pyplot as plt\n",
        "import seaborn as sns\n",
        "from IPython.display import Image"
      ]
    },
    {
      "cell_type": "code",
      "source": [
        "# import library\n",
        "import numpy as np\n",
        "import pandas as pd\n",
        "import seaborn as sns\n",
        "import plotly.express as px\n",
        "from matplotlib import pyplot as plt\n",
        "from sklearn.model_selection import cross_val_score\n",
        "\n",
        "from sklearn import metrics\n",
        "from collections import Counter"
      ],
      "metadata": {
        "id": "-Yr3zHEt80q5"
      },
      "execution_count": 5,
      "outputs": []
    },
    {
      "cell_type": "code",
      "source": [
        "# from google.colab import files\n",
        "# uploaded = files.upload()"
      ],
      "metadata": {
        "id": "OdyfIDbgc6U2"
      },
      "execution_count": 6,
      "outputs": []
    },
    {
      "cell_type": "code",
      "source": [
        "# import file\n",
        "raw_df = pd.read_csv('card_transdata.csv')\n",
        "# print(raw_df)"
      ],
      "metadata": {
        "id": "o9iADOuX9H-Q"
      },
      "execution_count": 7,
      "outputs": []
    },
    {
      "cell_type": "markdown",
      "source": [
        "Analysis of Data"
      ],
      "metadata": {
        "id": "qiz4D-YZm2G_"
      }
    },
    {
      "cell_type": "code",
      "source": [
        "header = pd.read_csv('card_transdata.csv', index_col=0, nrows=0).columns.tolist()\n",
        "print(header)"
      ],
      "metadata": {
        "id": "JZEqmF-dmEyI",
        "colab": {
          "base_uri": "https://localhost:8080/"
        },
        "outputId": "242c5f1a-575a-44e0-995d-e10362844a54"
      },
      "execution_count": 8,
      "outputs": [
        {
          "output_type": "stream",
          "name": "stdout",
          "text": [
            "['distance_from_last_transaction', 'ratio_to_median_purchase_price', 'repeat_retailer', 'used_chip', 'used_pin_number', 'online_order', 'fraud']\n"
          ]
        }
      ]
    },
    {
      "cell_type": "code",
      "source": [
        "labels=[\"Genuine\",\"Fraud\"]\n",
        "\n",
        "fraud_or_not = raw_df[\"fraud\"].value_counts().tolist()\n",
        "values = [fraud_or_not[0], fraud_or_not[1]]\n",
        "\n",
        "fig = px.pie(values=raw_df['fraud'].value_counts(), names=labels , width=700, height=400, color_discrete_sequence=[\"skyblue\",\"black\"]\n",
        "             ,title=\"Fraud vs Genuine transactions\")\n",
        "fig.show()"
      ],
      "metadata": {
        "id": "SPf-48ds9sCE",
        "colab": {
          "base_uri": "https://localhost:8080/",
          "height": 417
        },
        "outputId": "366982ee-3bed-4ea2-8424-68b85bd0d879"
      },
      "execution_count": 9,
      "outputs": [
        {
          "output_type": "display_data",
          "data": {
            "text/html": [
              "<html>\n",
              "<head><meta charset=\"utf-8\" /></head>\n",
              "<body>\n",
              "    <div>            <script src=\"https://cdnjs.cloudflare.com/ajax/libs/mathjax/2.7.5/MathJax.js?config=TeX-AMS-MML_SVG\"></script><script type=\"text/javascript\">if (window.MathJax) {MathJax.Hub.Config({SVG: {font: \"STIX-Web\"}});}</script>                <script type=\"text/javascript\">window.PlotlyConfig = {MathJaxConfig: 'local'};</script>\n",
              "        <script src=\"https://cdn.plot.ly/plotly-2.8.3.min.js\"></script>                <div id=\"36746a27-802f-45d8-a06f-eec0e0fd76f4\" class=\"plotly-graph-div\" style=\"height:400px; width:700px;\"></div>            <script type=\"text/javascript\">                                    window.PLOTLYENV=window.PLOTLYENV || {};                                    if (document.getElementById(\"36746a27-802f-45d8-a06f-eec0e0fd76f4\")) {                    Plotly.newPlot(                        \"36746a27-802f-45d8-a06f-eec0e0fd76f4\",                        [{\"domain\":{\"x\":[0.0,1.0],\"y\":[0.0,1.0]},\"hovertemplate\":\"label=%{label}<br>value=%{value}<extra></extra>\",\"labels\":[\"Genuine\",\"Fraud\"],\"legendgroup\":\"\",\"name\":\"\",\"showlegend\":true,\"values\":[912597,87403],\"type\":\"pie\"}],                        {\"template\":{\"data\":{\"bar\":[{\"error_x\":{\"color\":\"#2a3f5f\"},\"error_y\":{\"color\":\"#2a3f5f\"},\"marker\":{\"line\":{\"color\":\"#E5ECF6\",\"width\":0.5},\"pattern\":{\"fillmode\":\"overlay\",\"size\":10,\"solidity\":0.2}},\"type\":\"bar\"}],\"barpolar\":[{\"marker\":{\"line\":{\"color\":\"#E5ECF6\",\"width\":0.5},\"pattern\":{\"fillmode\":\"overlay\",\"size\":10,\"solidity\":0.2}},\"type\":\"barpolar\"}],\"carpet\":[{\"aaxis\":{\"endlinecolor\":\"#2a3f5f\",\"gridcolor\":\"white\",\"linecolor\":\"white\",\"minorgridcolor\":\"white\",\"startlinecolor\":\"#2a3f5f\"},\"baxis\":{\"endlinecolor\":\"#2a3f5f\",\"gridcolor\":\"white\",\"linecolor\":\"white\",\"minorgridcolor\":\"white\",\"startlinecolor\":\"#2a3f5f\"},\"type\":\"carpet\"}],\"choropleth\":[{\"colorbar\":{\"outlinewidth\":0,\"ticks\":\"\"},\"type\":\"choropleth\"}],\"contour\":[{\"colorbar\":{\"outlinewidth\":0,\"ticks\":\"\"},\"colorscale\":[[0.0,\"#0d0887\"],[0.1111111111111111,\"#46039f\"],[0.2222222222222222,\"#7201a8\"],[0.3333333333333333,\"#9c179e\"],[0.4444444444444444,\"#bd3786\"],[0.5555555555555556,\"#d8576b\"],[0.6666666666666666,\"#ed7953\"],[0.7777777777777778,\"#fb9f3a\"],[0.8888888888888888,\"#fdca26\"],[1.0,\"#f0f921\"]],\"type\":\"contour\"}],\"contourcarpet\":[{\"colorbar\":{\"outlinewidth\":0,\"ticks\":\"\"},\"type\":\"contourcarpet\"}],\"heatmap\":[{\"colorbar\":{\"outlinewidth\":0,\"ticks\":\"\"},\"colorscale\":[[0.0,\"#0d0887\"],[0.1111111111111111,\"#46039f\"],[0.2222222222222222,\"#7201a8\"],[0.3333333333333333,\"#9c179e\"],[0.4444444444444444,\"#bd3786\"],[0.5555555555555556,\"#d8576b\"],[0.6666666666666666,\"#ed7953\"],[0.7777777777777778,\"#fb9f3a\"],[0.8888888888888888,\"#fdca26\"],[1.0,\"#f0f921\"]],\"type\":\"heatmap\"}],\"heatmapgl\":[{\"colorbar\":{\"outlinewidth\":0,\"ticks\":\"\"},\"colorscale\":[[0.0,\"#0d0887\"],[0.1111111111111111,\"#46039f\"],[0.2222222222222222,\"#7201a8\"],[0.3333333333333333,\"#9c179e\"],[0.4444444444444444,\"#bd3786\"],[0.5555555555555556,\"#d8576b\"],[0.6666666666666666,\"#ed7953\"],[0.7777777777777778,\"#fb9f3a\"],[0.8888888888888888,\"#fdca26\"],[1.0,\"#f0f921\"]],\"type\":\"heatmapgl\"}],\"histogram\":[{\"marker\":{\"pattern\":{\"fillmode\":\"overlay\",\"size\":10,\"solidity\":0.2}},\"type\":\"histogram\"}],\"histogram2d\":[{\"colorbar\":{\"outlinewidth\":0,\"ticks\":\"\"},\"colorscale\":[[0.0,\"#0d0887\"],[0.1111111111111111,\"#46039f\"],[0.2222222222222222,\"#7201a8\"],[0.3333333333333333,\"#9c179e\"],[0.4444444444444444,\"#bd3786\"],[0.5555555555555556,\"#d8576b\"],[0.6666666666666666,\"#ed7953\"],[0.7777777777777778,\"#fb9f3a\"],[0.8888888888888888,\"#fdca26\"],[1.0,\"#f0f921\"]],\"type\":\"histogram2d\"}],\"histogram2dcontour\":[{\"colorbar\":{\"outlinewidth\":0,\"ticks\":\"\"},\"colorscale\":[[0.0,\"#0d0887\"],[0.1111111111111111,\"#46039f\"],[0.2222222222222222,\"#7201a8\"],[0.3333333333333333,\"#9c179e\"],[0.4444444444444444,\"#bd3786\"],[0.5555555555555556,\"#d8576b\"],[0.6666666666666666,\"#ed7953\"],[0.7777777777777778,\"#fb9f3a\"],[0.8888888888888888,\"#fdca26\"],[1.0,\"#f0f921\"]],\"type\":\"histogram2dcontour\"}],\"mesh3d\":[{\"colorbar\":{\"outlinewidth\":0,\"ticks\":\"\"},\"type\":\"mesh3d\"}],\"parcoords\":[{\"line\":{\"colorbar\":{\"outlinewidth\":0,\"ticks\":\"\"}},\"type\":\"parcoords\"}],\"pie\":[{\"automargin\":true,\"type\":\"pie\"}],\"scatter\":[{\"marker\":{\"colorbar\":{\"outlinewidth\":0,\"ticks\":\"\"}},\"type\":\"scatter\"}],\"scatter3d\":[{\"line\":{\"colorbar\":{\"outlinewidth\":0,\"ticks\":\"\"}},\"marker\":{\"colorbar\":{\"outlinewidth\":0,\"ticks\":\"\"}},\"type\":\"scatter3d\"}],\"scattercarpet\":[{\"marker\":{\"colorbar\":{\"outlinewidth\":0,\"ticks\":\"\"}},\"type\":\"scattercarpet\"}],\"scattergeo\":[{\"marker\":{\"colorbar\":{\"outlinewidth\":0,\"ticks\":\"\"}},\"type\":\"scattergeo\"}],\"scattergl\":[{\"marker\":{\"colorbar\":{\"outlinewidth\":0,\"ticks\":\"\"}},\"type\":\"scattergl\"}],\"scattermapbox\":[{\"marker\":{\"colorbar\":{\"outlinewidth\":0,\"ticks\":\"\"}},\"type\":\"scattermapbox\"}],\"scatterpolar\":[{\"marker\":{\"colorbar\":{\"outlinewidth\":0,\"ticks\":\"\"}},\"type\":\"scatterpolar\"}],\"scatterpolargl\":[{\"marker\":{\"colorbar\":{\"outlinewidth\":0,\"ticks\":\"\"}},\"type\":\"scatterpolargl\"}],\"scatterternary\":[{\"marker\":{\"colorbar\":{\"outlinewidth\":0,\"ticks\":\"\"}},\"type\":\"scatterternary\"}],\"surface\":[{\"colorbar\":{\"outlinewidth\":0,\"ticks\":\"\"},\"colorscale\":[[0.0,\"#0d0887\"],[0.1111111111111111,\"#46039f\"],[0.2222222222222222,\"#7201a8\"],[0.3333333333333333,\"#9c179e\"],[0.4444444444444444,\"#bd3786\"],[0.5555555555555556,\"#d8576b\"],[0.6666666666666666,\"#ed7953\"],[0.7777777777777778,\"#fb9f3a\"],[0.8888888888888888,\"#fdca26\"],[1.0,\"#f0f921\"]],\"type\":\"surface\"}],\"table\":[{\"cells\":{\"fill\":{\"color\":\"#EBF0F8\"},\"line\":{\"color\":\"white\"}},\"header\":{\"fill\":{\"color\":\"#C8D4E3\"},\"line\":{\"color\":\"white\"}},\"type\":\"table\"}]},\"layout\":{\"annotationdefaults\":{\"arrowcolor\":\"#2a3f5f\",\"arrowhead\":0,\"arrowwidth\":1},\"autotypenumbers\":\"strict\",\"coloraxis\":{\"colorbar\":{\"outlinewidth\":0,\"ticks\":\"\"}},\"colorscale\":{\"diverging\":[[0,\"#8e0152\"],[0.1,\"#c51b7d\"],[0.2,\"#de77ae\"],[0.3,\"#f1b6da\"],[0.4,\"#fde0ef\"],[0.5,\"#f7f7f7\"],[0.6,\"#e6f5d0\"],[0.7,\"#b8e186\"],[0.8,\"#7fbc41\"],[0.9,\"#4d9221\"],[1,\"#276419\"]],\"sequential\":[[0.0,\"#0d0887\"],[0.1111111111111111,\"#46039f\"],[0.2222222222222222,\"#7201a8\"],[0.3333333333333333,\"#9c179e\"],[0.4444444444444444,\"#bd3786\"],[0.5555555555555556,\"#d8576b\"],[0.6666666666666666,\"#ed7953\"],[0.7777777777777778,\"#fb9f3a\"],[0.8888888888888888,\"#fdca26\"],[1.0,\"#f0f921\"]],\"sequentialminus\":[[0.0,\"#0d0887\"],[0.1111111111111111,\"#46039f\"],[0.2222222222222222,\"#7201a8\"],[0.3333333333333333,\"#9c179e\"],[0.4444444444444444,\"#bd3786\"],[0.5555555555555556,\"#d8576b\"],[0.6666666666666666,\"#ed7953\"],[0.7777777777777778,\"#fb9f3a\"],[0.8888888888888888,\"#fdca26\"],[1.0,\"#f0f921\"]]},\"colorway\":[\"#636efa\",\"#EF553B\",\"#00cc96\",\"#ab63fa\",\"#FFA15A\",\"#19d3f3\",\"#FF6692\",\"#B6E880\",\"#FF97FF\",\"#FECB52\"],\"font\":{\"color\":\"#2a3f5f\"},\"geo\":{\"bgcolor\":\"white\",\"lakecolor\":\"white\",\"landcolor\":\"#E5ECF6\",\"showlakes\":true,\"showland\":true,\"subunitcolor\":\"white\"},\"hoverlabel\":{\"align\":\"left\"},\"hovermode\":\"closest\",\"mapbox\":{\"style\":\"light\"},\"paper_bgcolor\":\"white\",\"plot_bgcolor\":\"#E5ECF6\",\"polar\":{\"angularaxis\":{\"gridcolor\":\"white\",\"linecolor\":\"white\",\"ticks\":\"\"},\"bgcolor\":\"#E5ECF6\",\"radialaxis\":{\"gridcolor\":\"white\",\"linecolor\":\"white\",\"ticks\":\"\"}},\"scene\":{\"xaxis\":{\"backgroundcolor\":\"#E5ECF6\",\"gridcolor\":\"white\",\"gridwidth\":2,\"linecolor\":\"white\",\"showbackground\":true,\"ticks\":\"\",\"zerolinecolor\":\"white\"},\"yaxis\":{\"backgroundcolor\":\"#E5ECF6\",\"gridcolor\":\"white\",\"gridwidth\":2,\"linecolor\":\"white\",\"showbackground\":true,\"ticks\":\"\",\"zerolinecolor\":\"white\"},\"zaxis\":{\"backgroundcolor\":\"#E5ECF6\",\"gridcolor\":\"white\",\"gridwidth\":2,\"linecolor\":\"white\",\"showbackground\":true,\"ticks\":\"\",\"zerolinecolor\":\"white\"}},\"shapedefaults\":{\"line\":{\"color\":\"#2a3f5f\"}},\"ternary\":{\"aaxis\":{\"gridcolor\":\"white\",\"linecolor\":\"white\",\"ticks\":\"\"},\"baxis\":{\"gridcolor\":\"white\",\"linecolor\":\"white\",\"ticks\":\"\"},\"bgcolor\":\"#E5ECF6\",\"caxis\":{\"gridcolor\":\"white\",\"linecolor\":\"white\",\"ticks\":\"\"}},\"title\":{\"x\":0.05},\"xaxis\":{\"automargin\":true,\"gridcolor\":\"white\",\"linecolor\":\"white\",\"ticks\":\"\",\"title\":{\"standoff\":15},\"zerolinecolor\":\"white\",\"zerolinewidth\":2},\"yaxis\":{\"automargin\":true,\"gridcolor\":\"white\",\"linecolor\":\"white\",\"ticks\":\"\",\"title\":{\"standoff\":15},\"zerolinecolor\":\"white\",\"zerolinewidth\":2}}},\"legend\":{\"tracegroupgap\":0},\"title\":{\"text\":\"Fraud vs Genuine transactions\"},\"piecolorway\":[\"skyblue\",\"black\"],\"height\":400,\"width\":700},                        {\"responsive\": true}                    ).then(function(){\n",
              "                            \n",
              "var gd = document.getElementById('36746a27-802f-45d8-a06f-eec0e0fd76f4');\n",
              "var x = new MutationObserver(function (mutations, observer) {{\n",
              "        var display = window.getComputedStyle(gd).display;\n",
              "        if (!display || display === 'none') {{\n",
              "            console.log([gd, 'removed!']);\n",
              "            Plotly.purge(gd);\n",
              "            observer.disconnect();\n",
              "        }}\n",
              "}});\n",
              "\n",
              "// Listen for the removal of the full notebook cells\n",
              "var notebookContainer = gd.closest('#notebook-container');\n",
              "if (notebookContainer) {{\n",
              "    x.observe(notebookContainer, {childList: true});\n",
              "}}\n",
              "\n",
              "// Listen for the clearing of the current output cell\n",
              "var outputEl = gd.closest('.output');\n",
              "if (outputEl) {{\n",
              "    x.observe(outputEl, {childList: true});\n",
              "}}\n",
              "\n",
              "                        })                };                            </script>        </div>\n",
              "</body>\n",
              "</html>"
            ]
          },
          "metadata": {}
        }
      ]
    },
    {
      "cell_type": "code",
      "source": [
        "plt.figure(figsize=(3,4))\n",
        "ax = sns.countplot(x='fraud',data=raw_df,palette=\"pastel\")\n",
        "for i in ax.containers:\n",
        "    ax.bar_label(i,)"
      ],
      "metadata": {
        "id": "-SfdgwfGlztW",
        "colab": {
          "base_uri": "https://localhost:8080/",
          "height": 279
        },
        "outputId": "0aab8c6f-c147-4c79-a0e5-5afc243bea4d"
      },
      "execution_count": 10,
      "outputs": [
        {
          "output_type": "display_data",
          "data": {
            "text/plain": [
              "<Figure size 216x288 with 1 Axes>"
            ],
            "image/png": "[encoded data removed]"
          },
          "metadata": {
            "needs_background": "light"
          }
        }
      ]
    },
    {
      "cell_type": "code",
      "source": [
        "print('Genuine:', round(raw_df['fraud'].value_counts()[0]/len(raw_df) * 100,2), '% of the dataset')\n",
        "print('Frauds:', round(raw_df['fraud'].value_counts()[1]/len(raw_df) * 100,2), '% of the dataset')"
      ],
      "metadata": {
        "id": "Wu4yasBBmVwr",
        "colab": {
          "base_uri": "https://localhost:8080/"
        },
        "outputId": "6a0097f7-0245-4e46-d306-6067dbfd0cb6"
      },
      "execution_count": 11,
      "outputs": [
        {
          "output_type": "stream",
          "name": "stdout",
          "text": [
            "Genuine: 91.26 % of the dataset\n",
            "Frauds: 8.74 % of the dataset\n"
          ]
        }
      ]
    },
    {
      "cell_type": "markdown",
      "source": [
        "Data Pre-processing"
      ],
      "metadata": {
        "id": "WQGgcjoJm5lQ"
      }
    },
    {
      "cell_type": "code",
      "source": [
        "# Dropping duplicated values\n",
        "df = raw_df.copy()\n",
        "\n",
        "df.drop_duplicates(inplace=True)\n",
        "print(\"Duplicated values dropped succesfully\")\n",
        "print(\"*\" * 100)"
      ],
      "metadata": {
        "id": "NKW0D3yMmsR2",
        "colab": {
          "base_uri": "https://localhost:8080/"
        },
        "outputId": "8dbe50ec-b3da-41d6-a3fb-e53f1964a9b5"
      },
      "execution_count": 12,
      "outputs": [
        {
          "output_type": "stream",
          "name": "stdout",
          "text": [
            "Duplicated values dropped succesfully\n",
            "****************************************************************************************************\n"
          ]
        }
      ]
    },
    {
      "cell_type": "code",
      "source": [
        "# Train test split\n",
        "X = df.drop('fraud', axis=1)\n",
        "y = df['fraud']"
      ],
      "metadata": {
        "id": "dDYvuXoDnH-f"
      },
      "execution_count": 13,
      "outputs": []
    },
    {
      "cell_type": "code",
      "source": [
        "from sklearn.model_selection import train_test_split\n",
        "X_train, X_test, y_train, y_test = train_test_split(X, y, stratify=y, test_size = 0.3, random_state = 42)"
      ],
      "metadata": {
        "id": "B4qxTx_qnZp7"
      },
      "execution_count": 14,
      "outputs": []
    },
    {
      "cell_type": "code",
      "source": [
        "# Oversample/undersample\n",
        "# SMOTE - fail - run too long..."
      ],
      "metadata": {
        "id": "xpW-otenpTI5"
      },
      "execution_count": 15,
      "outputs": []
    },
    {
      "cell_type": "markdown",
      "source": [
        "Oversample/undersample Data: Ref link: https://www.kaggle.com/code/marcinrutecki/best-techniques-and-metrics-for-imbalanced-dataset"
      ],
      "metadata": {
        "id": "NAq9B_uzr0OM"
      }
    },
    {
      "cell_type": "code",
      "source": [
        "# Random Oversampling\n",
        "from imblearn.over_sampling import RandomOverSampler\n",
        "# define oversampling strategy\n",
        "ros = RandomOverSampler(random_state=42)"
      ],
      "metadata": {
        "id": "VGPXZFR8r5hl"
      },
      "execution_count": 16,
      "outputs": []
    },
    {
      "cell_type": "code",
      "source": [
        "# fit and apply the transform\n",
        "X_over, y_over = ros.fit_resample(X_train, y_train)"
      ],
      "metadata": {
        "id": "a6HUqotYsq9U"
      },
      "execution_count": 17,
      "outputs": []
    },
    {
      "cell_type": "code",
      "source": [
        "print('Genuine:', y_over.value_counts()[0], '/', round(y_over.value_counts()[0]/len(y_over) * 100,2), '% of the dataset')\n",
        "print('Frauds:', y_over.value_counts()[1], '/',round(y_over.value_counts()[1]/len(y_over) * 100,2), '% of the dataset')"
      ],
      "metadata": {
        "id": "x-VAnVhMsrcj",
        "colab": {
          "base_uri": "https://localhost:8080/"
        },
        "outputId": "7d3690f6-7f31-4c68-add0-a49da67ef6f8"
      },
      "execution_count": 18,
      "outputs": [
        {
          "output_type": "stream",
          "name": "stdout",
          "text": [
            "Genuine: 638818 / 50.0 % of the dataset\n",
            "Frauds: 638818 / 50.0 % of the dataset\n"
          ]
        }
      ]
    },
    {
      "cell_type": "markdown",
      "source": [
        "Imbalanced-Learn Pipeline\n",
        "1. Oversample the minority class.\n",
        "2. Train the classifier on the training segment.\n",
        "3. alidate the classifier on the remaining segment.\n"
      ],
      "metadata": {
        "id": "01iWHJhss1TB"
      }
    },
    {
      "cell_type": "code",
      "source": [
        "# This Pipeline is only done part 1\n",
        "# This part 2 and part 3 requires too long"
      ],
      "metadata": {
        "id": "kevF1_q9uKAC"
      },
      "execution_count": 19,
      "outputs": []
    },
    {
      "cell_type": "code",
      "source": [
        "'''\n",
        "from sklearn.ensemble import RandomForestClassifier\n",
        "from imblearn.pipeline import Pipeline, make_pipeline\n",
        "\n",
        "random_overs_pipeline = make_pipeline(RandomOverSampler(random_state=42), \n",
        "                              RandomForestClassifier(n_estimators=100, random_state=13))\n",
        "\n",
        "score2 = cross_val_score(random_overs_pipeline, X_train, y_train, scoring='recall')\n",
        "print(\"Cross Validation Recall Scores are: {}\".format(score2))\n",
        "print(\"Average Cross Validation Recall score: {}\".format(score2.mean()))\n",
        "\n",
        "new_params = {'randomforestclassifier__' + key: params[key] for key in params}\n",
        "grid_over_rf = GridSearchCV(random_overs_pipeline, param_grid=new_params, cv=kf, scoring='recall',\n",
        "                        return_train_score=True)\n",
        "grid_over_rf.fit(X_train, y_train)\n",
        "\n",
        "print('Best parameters:', grid_over_rf.best_params_)\n",
        "print('Best score:', grid_over_rf.best_score_)\n",
        "\n",
        "y_pred = grid_over_rf.best_estimator_.named_steps['randomforestclassifier'].predict(X_test)\n",
        "\n",
        "cm = confusion_matrix(y_test, y_pred)\n",
        "\n",
        "over_rf_Recall = recall_score(y_test, y_pred)\n",
        "over_rf_Precision = precision_score(y_test, y_pred)\n",
        "over_rf_f1 = f1_score(y_test, y_pred)\n",
        "over_rf_accuracy = accuracy_score(y_test, y_pred)\n",
        "\n",
        "print(cm)\n",
        "\n",
        "ndf = [(over_rf_Recall, over_rf_Precision, over_rf_f1, over_rf_accuracy)]\n",
        "\n",
        "over_rf_score = pd.DataFrame(data = ndf, columns=['Recall','Precision','F1 Score', 'Accuracy'])\n",
        "over_rf_score.insert(0, 'Random Forest with', 'Random Oversampling')\n",
        "over_rf_score\n",
        "'''"
      ],
      "metadata": {
        "id": "6Dl9HGsOuUSL",
        "colab": {
          "base_uri": "https://localhost:8080/",
          "height": 171
        },
        "outputId": "2a707c4c-ffd7-41d5-cf59-0b8b1f3f8fa1"
      },
      "execution_count": 20,
      "outputs": [
        {
          "output_type": "execute_result",
          "data": {
            "text/plain": [
              "'\\nfrom sklearn.ensemble import RandomForestClassifier\\nfrom imblearn.pipeline import Pipeline, make_pipeline\\n\\nrandom_overs_pipeline = make_pipeline(RandomOverSampler(random_state=42), \\n                              RandomForestClassifier(n_estimators=100, random_state=13))\\n\\nscore2 = cross_val_score(random_overs_pipeline, X_train, y_train, scoring=\\'recall\\')\\nprint(\"Cross Validation Recall Scores are: {}\".format(score2))\\nprint(\"Average Cross Validation Recall score: {}\".format(score2.mean()))\\n\\nnew_params = {\\'randomforestclassifier__\\' + key: params[key] for key in params}\\ngrid_over_rf = GridSearchCV(random_overs_pipeline, param_grid=new_params, cv=kf, scoring=\\'recall\\',\\n                        return_train_score=True)\\ngrid_over_rf.fit(X_train, y_train)\\n\\nprint(\\'Best parameters:\\', grid_over_rf.best_params_)\\nprint(\\'Best score:\\', grid_over_rf.best_score_)\\n\\ny_pred = grid_over_rf.best_estimator_.named_steps[\\'randomforestclassifier\\'].predict(X_test)\\n\\ncm = confusion_matrix(y_test, y_pred)\\n\\nover_rf_Recall = recall_score(y_test, y_pred)\\nover_rf_Precision = precision_score(y_test, y_pred)\\nover_rf_f1 = f1_score(y_test, y_pred)\\nover_rf_accuracy = accuracy_score(y_test, y_pred)\\n\\nprint(cm)\\n\\nndf = [(over_rf_Recall, over_rf_Precision, over_rf_f1, over_rf_accuracy)]\\n\\nover_rf_score = pd.DataFrame(data = ndf, columns=[\\'Recall\\',\\'Precision\\',\\'F1 Score\\', \\'Accuracy\\'])\\nover_rf_score.insert(0, \\'Random Forest with\\', \\'Random Oversampling\\')\\nover_rf_score\\n'"
            ],
            "application/vnd.google.colaboratory.intrinsic+json": {
              "type": "string"
            }
          },
          "metadata": {},
          "execution_count": 20
        }
      ]
    },
    {
      "cell_type": "code",
      "source": [
        "print(X.info())"
      ],
      "metadata": {
        "id": "3OFjAzJduvPL",
        "colab": {
          "base_uri": "https://localhost:8080/"
        },
        "outputId": "e64399ae-6521-46fd-8c85-24916f75977d"
      },
      "execution_count": 21,
      "outputs": [
        {
          "output_type": "stream",
          "name": "stdout",
          "text": [
            "<class 'pandas.core.frame.DataFrame'>\n",
            "Int64Index: 1000000 entries, 0 to 999999\n",
            "Data columns (total 7 columns):\n",
            " #   Column                          Non-Null Count    Dtype  \n",
            "---  ------                          --------------    -----  \n",
            " 0   distance_from_home              1000000 non-null  float64\n",
            " 1   distance_from_last_transaction  1000000 non-null  float64\n",
            " 2   ratio_to_median_purchase_price  1000000 non-null  float64\n",
            " 3   repeat_retailer                 1000000 non-null  float64\n",
            " 4   used_chip                       1000000 non-null  float64\n",
            " 5   used_pin_number                 1000000 non-null  float64\n",
            " 6   online_order                    1000000 non-null  float64\n",
            "dtypes: float64(7)\n",
            "memory usage: 61.0 MB\n",
            "None\n"
          ]
        }
      ]
    },
    {
      "cell_type": "markdown",
      "source": [
        "Classification: https://www.kaggle.com/code/mattop/credit-card-fraud-classification-knn-dtree-rf"
      ],
      "metadata": {
        "id": "TnsKaCQpqvwy"
      }
    },
    {
      "cell_type": "code",
      "source": [
        "corr = df.corr()\n",
        "\n",
        "sns.heatmap(corr, xticklabels = corr.columns, yticklabels = corr.columns, annot = True, cmap = \"hot\")"
      ],
      "metadata": {
        "id": "12xw-DY7tpjj",
        "colab": {
          "base_uri": "https://localhost:8080/",
          "height": 437
        },
        "outputId": "43486084-2abc-4910-cc14-267c5b594598"
      },
      "execution_count": 22,
      "outputs": [
        {
          "output_type": "execute_result",
          "data": {
            "text/plain": [
              "<AxesSubplot:>"
            ]
          },
          "metadata": {},
          "execution_count": 22
        },
        {
          "output_type": "display_data",
          "data": {
            "text/plain": [
              "<Figure size 432x288 with 2 Axes>"
            ],
            "image/png": "[encoded data removed]"
          },
          "metadata": {
            "needs_background": "light"
          }
        }
      ]
    },
    {
      "cell_type": "code",
      "source": [],
      "metadata": {
        "id": "K5smbixgtppV"
      },
      "execution_count": 22,
      "outputs": []
    },
    {
      "cell_type": "markdown",
      "source": [
        "Machine Learning Model Below"
      ],
      "metadata": {
        "id": "1_8JEVSFaYNi"
      }
    },
    {
      "cell_type": "code",
      "source": [
        "# # Use the classifier to predict whether the transaction is fraudulent\n",
        "#     prediction = clf.predict([transaction[features]])[0]\n",
        "    \n",
        "#     # If the prediction is positive, send the transaction to a human expert for review\n",
        "#     if prediction == 1:\n",
        "#         expert_feedback = get_expert_feedback(transaction)\n",
        "#         if expert_feedback == 'fraudulent':\n",
        "#             # Update the target variable for the transaction to indicate that it is fraudulent\n",
        "#             data.at[index, target] = 1\n",
        "#             # Retrain the classifier on the updated dataset\n",
        "#             clf.fit(data[features], data[target])\n"
      ],
      "metadata": {
        "id": "ByXlemDWaeTl"
      },
      "execution_count": null,
      "outputs": []
    },
    {
      "cell_type": "markdown",
      "source": [
        "## KNN"
      ],
      "metadata": {
        "id": "AuZVdUH5uGlU"
      }
    },
    {
      "cell_type": "code",
      "source": [
        "# Empty lists for appending each value of k\n",
        "train_accuracy = []\n",
        "test_accuracy = []"
      ],
      "metadata": {
        "id": "6AUuKkCnuGHM"
      },
      "execution_count": 23,
      "outputs": []
    },
    {
      "cell_type": "code",
      "source": [
        "# Iterate through values of k and store results\n",
        "from sklearn import preprocessing, model_selection, neighbors\n",
        "from sklearn.preprocessing import MinMaxScaler, StandardScaler\n",
        "from sklearn.ensemble import RandomForestClassifier\n",
        "from sklearn.tree import DecisionTreeClassifier\n",
        "from sklearn.metrics import classification_report, accuracy_score, confusion_matrix, precision_score\n",
        "\n",
        "for k in range(3, 16):\n",
        "    knn = neighbors.KNeighborsClassifier(n_neighbors = k)\n",
        "    knn.fit(X_train, y_train)\n",
        "    y_pred = knn.predict(X_test)\n",
        "    train_accuracy.append(knn.score(X_train, y_train))\n",
        "    test_accuracy.append(knn.score(X_test, y_test))"
      ],
      "metadata": {
        "id": "5qNZr6OwuO6z"
      },
      "execution_count": 24,
      "outputs": []
    },
    {
      "cell_type": "code",
      "source": [
        "# Displaying model accuracy for different values of k\n",
        "plt.figure(figsize = (12, 6))\n",
        "\n",
        "plt.plot(range(3, 16), train_accuracy, label = \"Train Score\",\n",
        "         marker = \"o\", markerfacecolor = \"#00FF00\", color = \"#000000\")\n",
        "\n",
        "plt.plot(range(3, 16), test_accuracy, label = \"Test Score\", \n",
        "         marker = \"o\", markerfacecolor = \"#FF0000\", color = \"#000000\")\n",
        "\n",
        "plt.xlabel(\"Number of Neighbors\")\n",
        "plt.ylabel(\"Score\")\n",
        "plt.title(\"Train vs Test Score by Number of Neighbors\")\n",
        "plt.legend()\n",
        "plt.show()"
      ],
      "metadata": {
        "id": "Mw53ROyuuO9B",
        "colab": {
          "base_uri": "https://localhost:8080/",
          "height": 404
        },
        "outputId": "f2b01c6e-2277-46c7-f699-437fb42c49b4"
      },
      "execution_count": 25,
      "outputs": [
        {
          "output_type": "display_data",
          "data": {
            "text/plain": [
              "<Figure size 864x432 with 1 Axes>"
            ],
            "image/png": "[encoded data removed]"
          },
          "metadata": {
            "needs_background": "light"
          }
        }
      ]
    },
    {
      "cell_type": "code",
      "source": [
        "knn = neighbors.KNeighborsClassifier(n_neighbors = 3)\n",
        "knn.fit(X_train, y_train)\n",
        "y_pred = knn.predict(X_test)\n",
        "\n",
        "cm = confusion_matrix(y_test, y_pred)\n",
        "cm"
      ],
      "metadata": {
        "id": "gsZRYN52uPAd",
        "colab": {
          "base_uri": "https://localhost:8080/"
        },
        "outputId": "d4e47e1e-59cd-43ec-9673-9633a52ece94"
      },
      "execution_count": 26,
      "outputs": [
        {
          "output_type": "execute_result",
          "data": {
            "text/plain": [
              "array([[270886,   2893],\n",
              "       [  1855,  24366]])"
            ]
          },
          "metadata": {},
          "execution_count": 26
        }
      ]
    },
    {
      "cell_type": "code",
      "source": [
        "precision_score(y_test, y_pred)"
      ],
      "metadata": {
        "id": "0qgG9W_J1ZeB",
        "colab": {
          "base_uri": "https://localhost:8080/"
        },
        "outputId": "75292204-f6ce-4605-d2d3-f4afe83c4dfa"
      },
      "execution_count": 27,
      "outputs": [
        {
          "output_type": "execute_result",
          "data": {
            "text/plain": [
              "0.8938699145236436"
            ]
          },
          "metadata": {},
          "execution_count": 27
        }
      ]
    },
    {
      "cell_type": "code",
      "source": [
        "plt.figure(figsize = (12, 6))\n",
        "\n",
        "sns.heatmap(cm, annot = True, cmap = \"hot\")\n",
        "plt.xlabel(\"Predicted\")\n",
        "plt.ylabel(\"Truth\")"
      ],
      "metadata": {
        "id": "J2OYVOlM1ZiH",
        "colab": {
          "base_uri": "https://localhost:8080/",
          "height": 405
        },
        "outputId": "cdd58237-2cf6-487b-e4e1-3e2b48e848a6"
      },
      "execution_count": 28,
      "outputs": [
        {
          "output_type": "execute_result",
          "data": {
            "text/plain": [
              "Text(87.0, 0.5, 'Truth')"
            ]
          },
          "metadata": {},
          "execution_count": 28
        },
        {
          "output_type": "display_data",
          "data": {
            "text/plain": [
              "<Figure size 864x432 with 2 Axes>"
            ],
            "image/png": "[encoded data removed]"
          },
          "metadata": {
            "needs_background": "light"
          }
        }
      ]
    },
    {
      "cell_type": "code",
      "source": [
        "accuracy = knn.score(X_test, y_test)\n",
        "print(\"KNN Accuracy:\",accuracy)\n",
        "print(classification_report(y_test, y_pred))"
      ],
      "metadata": {
        "id": "-91-YKd-1ZlE",
        "colab": {
          "base_uri": "https://localhost:8080/"
        },
        "outputId": "3332fce4-559d-4769-ad1a-b5de69ccc025"
      },
      "execution_count": 29,
      "outputs": [
        {
          "output_type": "stream",
          "name": "stdout",
          "text": [
            "KNN Accuracy: 0.9841733333333333\n",
            "              precision    recall  f1-score   support\n",
            "\n",
            "         0.0       0.99      0.99      0.99    273779\n",
            "         1.0       0.89      0.93      0.91     26221\n",
            "\n",
            "    accuracy                           0.98    300000\n",
            "   macro avg       0.94      0.96      0.95    300000\n",
            "weighted avg       0.98      0.98      0.98    300000\n",
            "\n"
          ]
        }
      ]
    },
    {
      "cell_type": "markdown",
      "source": [
        "### DT"
      ],
      "metadata": {
        "id": "L3_y3NIO4d3s"
      }
    },
    {
      "cell_type": "code",
      "source": [
        "dt = DecisionTreeClassifier(random_state = 5)  \n",
        "dt.fit(X_train, y_train) \n",
        "y_pred = dt.predict(X_test)"
      ],
      "metadata": {
        "id": "Db8R7hJO4b2u"
      },
      "execution_count": 30,
      "outputs": []
    },
    {
      "cell_type": "code",
      "source": [
        "cm = confusion_matrix(y_test, y_pred)\n",
        "cm"
      ],
      "metadata": {
        "id": "9VHUVfXu4cBQ",
        "colab": {
          "base_uri": "https://localhost:8080/"
        },
        "outputId": "4d0c4966-c56d-4304-94f0-d555ba9a50e7"
      },
      "execution_count": 31,
      "outputs": [
        {
          "output_type": "execute_result",
          "data": {
            "text/plain": [
              "array([[273778,      1],\n",
              "       [     3,  26218]])"
            ]
          },
          "metadata": {},
          "execution_count": 31
        }
      ]
    },
    {
      "cell_type": "code",
      "source": [
        "precision_score(y_test, y_pred)\n"
      ],
      "metadata": {
        "id": "spns4Dzk4cLP",
        "colab": {
          "base_uri": "https://localhost:8080/"
        },
        "outputId": "b70afe6e-be95-4c38-bf91-a3b2ca4d8e21"
      },
      "execution_count": 32,
      "outputs": [
        {
          "output_type": "execute_result",
          "data": {
            "text/plain": [
              "0.9999618597200504"
            ]
          },
          "metadata": {},
          "execution_count": 32
        }
      ]
    },
    {
      "cell_type": "code",
      "source": [
        "plt.figure(figsize = (12, 6))\n",
        "\n",
        "sns.heatmap(cm, annot = True, cmap = \"hot\")\n",
        "plt.xlabel(\"Predicted\")\n",
        "plt.ylabel(\"Truth\")"
      ],
      "metadata": {
        "id": "PoMCvipe4cTE",
        "colab": {
          "base_uri": "https://localhost:8080/",
          "height": 405
        },
        "outputId": "f44a52f3-7aa6-463e-b06b-8a29a7bcac0a"
      },
      "execution_count": 33,
      "outputs": [
        {
          "output_type": "execute_result",
          "data": {
            "text/plain": [
              "Text(87.0, 0.5, 'Truth')"
            ]
          },
          "metadata": {},
          "execution_count": 33
        },
        {
          "output_type": "display_data",
          "data": {
            "text/plain": [
              "<Figure size 864x432 with 2 Axes>"
            ],
            "image/png": "[encoded data removed]"
          },
          "metadata": {
            "needs_background": "light"
          }
        }
      ]
    },
    {
      "cell_type": "code",
      "source": [
        "accuracy = dt.score(X_test, y_test)\n",
        "print(\"DT Accuracy:\",accuracy)\n",
        "print(classification_report(y_test, y_pred))"
      ],
      "metadata": {
        "id": "DApn2w8A4cWI",
        "colab": {
          "base_uri": "https://localhost:8080/"
        },
        "outputId": "5c54b166-7804-4bcc-f039-7ff8dc2c16a6"
      },
      "execution_count": 34,
      "outputs": [
        {
          "output_type": "stream",
          "name": "stdout",
          "text": [
            "DT Accuracy: 0.9999866666666667\n",
            "              precision    recall  f1-score   support\n",
            "\n",
            "         0.0       1.00      1.00      1.00    273779\n",
            "         1.0       1.00      1.00      1.00     26221\n",
            "\n",
            "    accuracy                           1.00    300000\n",
            "   macro avg       1.00      1.00      1.00    300000\n",
            "weighted avg       1.00      1.00      1.00    300000\n",
            "\n"
          ]
        }
      ]
    },
    {
      "cell_type": "markdown",
      "source": [
        "## RF"
      ],
      "metadata": {
        "id": "sMiQrmFI4ufa"
      }
    },
    {
      "cell_type": "code",
      "source": [
        "rf = RandomForestClassifier(random_state = 5)\n",
        "rf.fit(X_train, y_train)\n",
        "y_pred = rf.predict(X_test)\n",
        "\n",
        "cm = confusion_matrix(y_test, y_pred)\n",
        "cm"
      ],
      "metadata": {
        "id": "MBKrAen34cY4",
        "colab": {
          "base_uri": "https://localhost:8080/"
        },
        "outputId": "99001c52-fb75-45da-d983-4acb1cfadc8d"
      },
      "execution_count": 35,
      "outputs": [
        {
          "output_type": "execute_result",
          "data": {
            "text/plain": [
              "array([[273779,      0],\n",
              "       [     5,  26216]])"
            ]
          },
          "metadata": {},
          "execution_count": 35
        }
      ]
    },
    {
      "cell_type": "code",
      "source": [
        "precision_score(y_test, y_pred)"
      ],
      "metadata": {
        "id": "YccVcEpv41Qj",
        "colab": {
          "base_uri": "https://localhost:8080/"
        },
        "outputId": "585170a7-1f05-44a0-8253-8696dcf2f2e6"
      },
      "execution_count": 36,
      "outputs": [
        {
          "output_type": "execute_result",
          "data": {
            "text/plain": [
              "1.0"
            ]
          },
          "metadata": {},
          "execution_count": 36
        }
      ]
    },
    {
      "cell_type": "code",
      "source": [
        "plt.figure(figsize = (12, 6))\n",
        "\n",
        "sns.heatmap(cm, annot = True, cmap = \"hot\")\n",
        "plt.xlabel(\"Predicted\")\n",
        "plt.ylabel(\"Truth\")"
      ],
      "metadata": {
        "id": "6f9uhiFd41TB",
        "colab": {
          "base_uri": "https://localhost:8080/",
          "height": 405
        },
        "outputId": "4a41ec82-4bea-4221-fc26-2ac5ce7d67ac"
      },
      "execution_count": 37,
      "outputs": [
        {
          "output_type": "execute_result",
          "data": {
            "text/plain": [
              "Text(87.0, 0.5, 'Truth')"
            ]
          },
          "metadata": {},
          "execution_count": 37
        },
        {
          "output_type": "display_data",
          "data": {
            "text/plain": [
              "<Figure size 864x432 with 2 Axes>"
            ],
            "image/png": "[encoded data removed]"
          },
          "metadata": {
            "needs_background": "light"
          }
        }
      ]
    },
    {
      "cell_type": "code",
      "source": [
        "accuracy = rf.score(X_test, y_test)\n",
        "print(\"RF Accuracy:\",accuracy)\n",
        "print(classification_report(y_test, y_pred))"
      ],
      "metadata": {
        "id": "lQVxmo5a48kH",
        "colab": {
          "base_uri": "https://localhost:8080/"
        },
        "outputId": "09c39a1e-6640-4bf8-ba06-6853ac286cb8"
      },
      "execution_count": 38,
      "outputs": [
        {
          "output_type": "stream",
          "name": "stdout",
          "text": [
            "RF Accuracy: 0.9999833333333333\n",
            "              precision    recall  f1-score   support\n",
            "\n",
            "         0.0       1.00      1.00      1.00    273779\n",
            "         1.0       1.00      1.00      1.00     26221\n",
            "\n",
            "    accuracy                           1.00    300000\n",
            "   macro avg       1.00      1.00      1.00    300000\n",
            "weighted avg       1.00      1.00      1.00    300000\n",
            "\n"
          ]
        }
      ]
    },
    {
      "cell_type": "code",
      "source": [],
      "metadata": {
        "id": "xq8TJv3S48m2"
      },
      "execution_count": 38,
      "outputs": []
    }
  ]
}